{
 "cells": [
  {
   "cell_type": "code",
   "execution_count": null,
   "metadata": {
    "collapsed": true
   },
   "outputs": [],
   "source": [
    "# Following script combines the annotation data with the time series data\n",
    "path = r'C:\\Users\\Grover\\Documents\\GitHub\\EZLabel\\true_annotations'\n",
    "dict_path = r'Z:\\mfk\\basty-projects\\tmp_results\\predictions\\ProboscisPumping\\bouts_dict.pkl'\n",
    "\n",
    "import pandas as pd\n",
    "import os\n",
    "import glob\n",
    "\n",
    "\n",
    "def process_row(row, dictionary, N):\n",
    "    df_dict = dictionary[row['name']]\n",
    "    df_dict_filtered = df_dict.drop(['start_index', 'stop_index', 'region'], axis=1)\n",
    "\n",
    "    trial_id = int(row['trial_id'])\n",
    "    peak_index = row['peak_index']\n",
    "\n",
    "    # New dictionary to store sliced data with column names\n",
    "    sliced_data_dict = {}\n",
    "\n",
    "    for col in df_dict_filtered.columns:\n",
    "        if peak_index-N >= 0 and peak_index+N <= len(df_dict_filtered.loc[trial_id, col]):\n",
    "            start = max(0, peak_index - N)\n",
    "            end = min(len(df_dict_filtered.loc[trial_id, col]), peak_index + N)\n",
    "            sliced_data_dict[col] = df_dict_filtered.loc[trial_id, col][start:end]\n",
    "\n",
    "    return sliced_data_dict\n"
   ]
  },
  {
   "cell_type": "code",
   "execution_count": null,
   "outputs": [],
   "source": [
    "\n",
    "pkl_files = glob.glob(os.path.join(path, '*.pkl'))\n",
    "ts_dict = pd.read_pickle(dict_path)\n",
    "\n",
    "df_list = []  # A list to store each DataFrame\n",
    "\n",
    "\n",
    "for file in pkl_files:\n",
    "    data = pd.read_pickle(file)\n",
    "    df = pd.DataFrame(data)\n",
    "    df['name'] = os.path.splitext(os.path.basename(file))[0]\n",
    "    df_list.append(df)  # Append the DataFrame to the list\n",
    "\n",
    "# Concatenate all the DataFrames in the list into a single DataFrame\n",
    "annotations = pd.concat(df_list, ignore_index=True)\n",
    "\n",
    "# Rename the columns to make it more intuitive\n",
    "annotations.rename(columns = {'index':'peak_index','column':'trial_id'},inplace=True)"
   ],
   "metadata": {
    "collapsed": false
   }
  },
  {
   "cell_type": "code",
   "execution_count": null,
   "outputs": [],
   "source": [
    "annotations"
   ],
   "metadata": {
    "collapsed": false
   }
  },
  {
   "cell_type": "code",
   "execution_count": null,
   "outputs": [],
   "source": [
    "annotations"
   ],
   "metadata": {
    "collapsed": false
   }
  },
  {
   "cell_type": "code",
   "execution_count": null,
   "outputs": [],
   "source": [
    "# Create an empty DataFrame to store all the processed rows\n",
    "processed_data_df = pd.DataFrame()\n",
    "\n",
    "# Initialize a counter for slice\n",
    "slice_counter = 0\n",
    "\n",
    "# Loop through each row in annotations\n",
    "for i, row in annotations.iterrows():\n",
    "    processed_row = process_row(row, ts_dict, 30)\n",
    "\n",
    "    # Create a DataFrame for this row\n",
    "    row_df = pd.DataFrame(processed_row)\n",
    "\n",
    "    # Add 'slice_id' to the DataFrame\n",
    "    row_df['slice_id'] = slice_counter\n",
    "\n",
    "    # Set a multi-index using 'name', 'slice_id' and the existing index of row_df\n",
    "    row_df.index = pd.MultiIndex.from_tuples([(row['name'], slice_counter, i) for i in row_df.index],\n",
    "                                             names=['name', 'slice_id', 'time'])\n",
    "\n",
    "    # Append it to processed_data_df\n",
    "    processed_data_df = pd.concat([processed_data_df, row_df])\n",
    "\n",
    "    # Increment the slice_counter\n",
    "    slice_counter += 1\n"
   ],
   "metadata": {
    "collapsed": false
   }
  },
  {
   "cell_type": "code",
   "execution_count": null,
   "outputs": [],
   "source": [
    "import numpy as np\n",
    "# Create a dictionary where key is (name, slice_id) and value is the sub-DataFrame\n",
    "df_dict = dict(tuple(processed_data_df.groupby(level=['name', 'slice_id'])))\n",
    "\n",
    "# Initialize an empty list to store each 2D array\n",
    "array_list = []\n",
    "\n",
    "# Loop over the dictionary\n",
    "for key in df_dict:\n",
    "    # Convert each DataFrame to a 2D numpy array and append to list\n",
    "    array_list.append(df_dict[key].values)\n",
    "\n",
    "# Convert list of arrays to a 3D numpy array\n",
    "np_array = np.stack(array_list)\n"
   ],
   "metadata": {
    "collapsed": false
   }
  },
  {
   "cell_type": "code",
   "execution_count": null,
   "outputs": [],
   "source": [
    "output_path = r'C:\\Users\\Grover\\Documents\\GitHub\\EZLabel'\n",
    "\n",
    "processed_data_df.to_pickle(os.path.join(output_path,'false_peak_annotations.pkl'))"
   ],
   "metadata": {
    "collapsed": false
   }
  },
  {
   "cell_type": "code",
   "execution_count": null,
   "outputs": [],
   "source": [
    "np.save(os.path.join(output_path,'false_peak_annotations.npy'),np_array)"
   ],
   "metadata": {
    "collapsed": false
   }
  },
  {
   "cell_type": "code",
   "execution_count": null,
   "outputs": [],
   "source": [
    "output_path = r'C:\\Users\\Grover\\Documents\\GitHub\\EZLabel\\true_annotations\\output'\n",
    "annotations.to_pickle(os.path.join(output_path,'true_annotations.pkl'))"
   ],
   "metadata": {
    "collapsed": false
   }
  },
  {
   "cell_type": "code",
   "execution_count": null,
   "outputs": [],
   "source": [
    "import pandas as pd\n",
    "import os\n",
    "\n",
    "# Load annotations and experimental info: \n",
    "path = r'C:\\Users\\Grover\\Documents\\GitHub\\EZLabel\\true_annotations'\n",
    "annotations = pd.read_pickle(os.path.join(path,'output','true_annotations.pkl'))\n",
    "expt_info_df_path = r'Z:\\mfk\\basty-projects\\expt_info_df.pkl'\n",
    "expt_info_df = pd.read_pickle(expt_info_df_path)\n",
    "\n",
    "# Fetch all .mp4 files from the directory\n",
    "directory = r'Y:\\DeepSleepPaperData\\Annotated\\PredictedVideos\\Pumping'\n",
    "file_names = [f for f in os.listdir(directory) if f.endswith('.mp4')]\n",
    "\n",
    "# Process each filename\n",
    "data = []\n",
    "\n",
    "for file in file_names:\n",
    "    parts = file.split(\"_\")\n",
    "\n",
    "    index_position = parts.index('index')\n",
    "    name = \"_\".join(parts[:index_position])\n",
    "    trial_id = int(parts[index_position + 1])\n",
    "    start = int(parts[parts.index('start') + 1])\n",
    "\n",
    "    data.append([name, trial_id, start])\n",
    "\n",
    "# Construct the DataFrame\n",
    "df = pd.DataFrame(data, columns=[\"name\", \"trial_id\", \"start\"])\n",
    "\n",
    "annotations['trial_id'] = annotations['trial_id'].astype('int64')\n",
    "df['trial_id'] = df['trial_id'].astype('int64')\n",
    "merged_df = annotations.merge(df[['name', 'trial_id', 'start']], on=['name', 'trial_id'], how='left')\n",
    "\n",
    "merged_df['pump_pos'] = merged_df['peak_index'] + merged_df['start']"
   ],
   "metadata": {
    "collapsed": false
   }
  },
  {
   "cell_type": "code",
   "execution_count": null,
   "outputs": [],
   "source": [
    "merged_df.to_csv(os.path.join(path,\"all_true_annotations.csv\"))"
   ],
   "metadata": {
    "collapsed": false
   }
  },
  {
   "cell_type": "code",
   "execution_count": null,
   "outputs": [],
   "source": [
    "name_to_sd = dict(zip(expt_info_df['ExptNames'], expt_info_df['SD']))\n",
    "name_to_sex = dict(zip(expt_info_df['ExptNames'], expt_info_df['Sex']))\n",
    "\n",
    "df = merged_df\n",
    "\n",
    "# Split df into two based on SD value\n",
    "df_sd_true = df[df['name'].map(name_to_sd)]\n",
    "df_sd_false = df[~df['name'].map(name_to_sd)]"
   ],
   "metadata": {
    "collapsed": false
   }
  },
  {
   "cell_type": "code",
   "execution_count": null,
   "outputs": [],
   "source": [
    "import matplotlib.pyplot as plt\n",
    "import matplotlib as mpl\n",
    "\n",
    "import numpy as np\n",
    "\n",
    "mpl.rcParams['pdf.fonttype'] = 42\n",
    "mpl.rcParams['font.family'] = 'Arial'\n",
    "\n",
    "# Helper function to plot given a subset of df\n",
    "def plot_data(subset_df, color, sd, sex):\n",
    "    fig, ax = plt.subplots(figsize=(15, len(subset_df['name'].unique()) / 4))\n",
    "    unique_names = subset_df['name'].unique()\n",
    "\n",
    "    for idx, name in enumerate(unique_names):\n",
    "        sub_subset_df = subset_df[subset_df['name'] == name]\n",
    "        for _, row in sub_subset_df.iterrows():\n",
    "            pump_pos = row['pump_pos']\n",
    "            ax.barh(idx, 60, left=pump_pos - 30, color=color, edgecolor='none')\n",
    "\n",
    "    fly_labels = [f\"Fly{i+1}\" for i in range(len(unique_names))]\n",
    "    ax.set_yticks(range(len(unique_names)))\n",
    "    ax.set_yticklabels(fly_labels)\n",
    "\n",
    "    ZT_ticks, ZT_ticklabels = generate_tick_data(30, sd=sd)\n",
    "    ax.set_xticks(ZT_ticks)\n",
    "    ax.set_xticklabels(ZT_ticklabels)\n",
    "\n",
    "    # Set x-axis limits to the beginning and end of the x-ticks\n",
    "    ax.set_xlim(ZT_ticks[0], ZT_ticks[-1])\n",
    "\n",
    "    title = f'SD_True_{sex}' if sd else f'SD_False_{sex}'\n",
    "    ax.set_title(title)\n",
    "\n",
    "    plt.tight_layout()\n",
    "    plt.savefig(f'Pump_Positions_{title}.pdf')\n",
    "    plt.show()\n",
    "\n",
    "\n",
    "# Function to plot data for SD = True\n",
    "def plot_sd_true():\n",
    "    df_sd_true = df[df['name'].map(name_to_sd)]\n",
    "    plot_data(df_sd_true, '#377eb8', sd=True)\n",
    "\n",
    "\n",
    "# Function to plot data for SD = False\n",
    "def plot_sd_false():\n",
    "    df_sd_false = df[~df['name'].map(name_to_sd)]\n",
    "    plot_data(df_sd_false, '#d62728', sd=False)\n",
    "    \n",
    "def plot_sub_data(df, expt_info_df, sd, sex,plot_it):\n",
    "    # Create mappings from expt_info_df\n",
    "    name_to_sd = dict(zip(expt_info_df['ExptNames'], expt_info_df['SD']))\n",
    "    name_to_sex = dict(zip(expt_info_df['ExptNames'], expt_info_df['Sex']))\n",
    "    \n",
    "    # Filter based on provided sd and sex values\n",
    "    sub_df = df[(df['name'].map(name_to_sd) == sd) & (df['name'].map(name_to_sex) == sex)]\n",
    "    \n",
    "    if plot_it:\n",
    "        plot_data(sub_df, '#d62728', sd=sd,sex=sex)\n",
    "    \n",
    "    return sub_df,sd,sex\n",
    "    \n",
    "def generate_tick_data(FPS=30, sd=False):\n",
    "\n",
    "    if sd == False:\n",
    "        xticks = np.arange(\n",
    "            start=0, stop=FPS * 60 * 60 * 16 + 1, step=FPS * 60 * 60 * 2\n",
    "        )\n",
    "        ZT_ticks = xticks\n",
    "        ZT_ticklabels = [\n",
    "            \"ZT\" + str((tick + 10) % 24) for tick in range(0, len(xticks) * 2, 2)\n",
    "        ]\n",
    "    else:\n",
    "        xticks = np.arange(\n",
    "            start=0, stop=FPS * 60 * 60 * 6 + 1, step=FPS * 60 * 60 * 1\n",
    "        )\n",
    "        ZT_ticks = xticks\n",
    "        ZT_ticklabels = [\n",
    "            \"ZT\" + str(tick) for tick in range(0, len(xticks) * 1, 1)\n",
    "        ]\n",
    "\n",
    "    return ZT_ticks, ZT_ticklabels\n"
   ],
   "metadata": {
    "collapsed": false
   }
  },
  {
   "cell_type": "code",
   "execution_count": null,
   "outputs": [],
   "source": [
    "plot_sub_data(df,expt_info_df,sd=False,sex='F')"
   ],
   "metadata": {
    "collapsed": false
   }
  },
  {
   "cell_type": "code",
   "execution_count": null,
   "outputs": [],
   "source": [
    "import pandas as pd\n",
    "\n",
    "def plot_bin_data(sub_df,sd,sex):\n",
    "    plot_Df = sub_df\n",
    "    # Convert pump_pos to minutes\n",
    "    plot_Df['pump_pos_minutes'] = plot_Df['pump_pos'] / (30 * 60)\n",
    "    \n",
    "    # Define bin edges for 60-minute intervals\n",
    "    max_minutes = plot_Df['pump_pos_minutes'].max()\n",
    "    bins = list(range(0, int(max_minutes) + 61, 60))\n",
    "    \n",
    "    # For each unique 'name', bin the data and count values in each bin\n",
    "    binned_data = {}\n",
    "    for name, group in plot_Df.groupby('name'):\n",
    "        binned_data[name] = pd.cut(group['pump_pos_minutes'], bins=bins).value_counts()\n",
    "    \n",
    "    # Convert the binned_data dictionary to a DataFrame\n",
    "    binned_df = pd.DataFrame(binned_data).T\n",
    "    binned_df = binned_df.fillna(0).astype(int)  # Replace NaN values with zeros and convert to integer type\n",
    "    \n",
    "    # Calculate the average for each bin across all \"names\"\n",
    "    melted_df = binned_df.melt(var_name='Time Bin', value_name='Average Count')\n",
    "    \n",
    "    import seaborn as sns\n",
    "\n",
    "    # Create the boxplot using seaborn\n",
    "    plt.figure(figsize=(12, 6))\n",
    "    sns.boxplot(data=melted_df, x='Time Bin', y='Average Count', showfliers=False, color=\"skyblue\", width=0.5, notch=False, boxprops=dict(edgecolor='none'))\n",
    "  # Adjusted box width and color\n",
    "    \n",
    "    # Calculate the median values for each time bin and plot them\n",
    "    medians = melted_df.groupby('Time Bin')['Average Count'].median()\n",
    "    plt.plot(range(len(medians)), medians, color='black', linestyle='-', marker='o')\n",
    "    \n",
    "    # Set the x-tick labels to your ZT values\n",
    "    if ~sd:\n",
    "        ZT_labels = [f\"ZT{((i + 10) % 24)}\" for i in range(len(medians))]\n",
    "        plt.xticks(ticks=range(len(ZT_labels)), labels=ZT_labels, rotation=45)\n",
    "    else:\n",
    "        ZT_labels = [f\"ZT{((i))}\" for i in range(len(medians))]\n",
    "        plt.xticks(ticks=range(len(ZT_labels)), labels=ZT_labels, rotation=45)\n",
    "        \n",
    "    \n",
    "    # Set y-label\n",
    "    plt.ylabel(\"Pump per Hour\")\n",
    "\n",
    "    \n",
    "    title = f\"Avg_Binned_SD_{sd}_sex{sex}\"\n",
    "    plt.title(title)\n",
    "    plt.tight_layout()\n",
    "    plt.savefig(f'{title}.pdf')\n",
    "    plt.show()"
   ],
   "metadata": {
    "collapsed": false
   }
  },
  {
   "cell_type": "code",
   "execution_count": null,
   "outputs": [],
   "source": [
    "sub,sd,sex = plot_sub_data(df,expt_info_df,sd=True,sex='F',plot_it=False)"
   ],
   "metadata": {
    "collapsed": false
   }
  },
  {
   "cell_type": "code",
   "execution_count": null,
   "outputs": [],
   "source": [
    "plot_bin_data(sub,sd,sex)"
   ],
   "metadata": {
    "collapsed": false
   }
  },
  {
   "cell_type": "code",
   "execution_count": null,
   "outputs": [],
   "source": [
    "# Calculate Bouts\n",
    "def calculate_bouts(target_df, target_threshold):\n",
    "    # Re-initialize the 'bouts' column with default value 0\n",
    "    target_df['bouts'] = 0\n",
    "    \n",
    "    # Loop through each unique 'name' to identify bouts based on 'pump_pos'\n",
    "    for name in target_df['name'].unique():\n",
    "        # Filter the DataFrame for the current 'name'\n",
    "        subset_df = target_df[target_df['name'] == name].sort_values(by='pump_pos')\n",
    "        \n",
    "        # Calculate the differences between consecutive 'pump_pos'\n",
    "        pump_diffs = subset_df['pump_pos'].diff().fillna(0)\n",
    "        \n",
    "        # Initialize a variable to keep track of the current bout number\n",
    "        current_bout = 0\n",
    "        \n",
    "        # Initialize a variable to keep track of the last pump position in the current bout\n",
    "        last_pump_in_bout = -1\n",
    "        \n",
    "        # Loop through the DataFrame to identify bouts\n",
    "        for idx, pump_diff in pump_diffs.items():\n",
    "            if pump_diff > target_threshold:\n",
    "                # If the difference between the current and last pump position is greater than the threshold, start a new bout\n",
    "                current_bout += 1\n",
    "                last_pump_in_bout = target_df.loc[idx, 'pump_pos']\n",
    "            elif last_pump_in_bout != -1 and (target_df.loc[idx, 'pump_pos'] - last_pump_in_bout) > target_threshold:\n",
    "                # If the difference between the current pump position and the last pump position in the current bout is greater than the threshold, start a new bout\n",
    "                current_bout += 1\n",
    "                last_pump_in_bout = target_df.loc[idx, 'pump_pos']\n",
    "            else:\n",
    "                # Otherwise, the current pump position is part of the current bout\n",
    "                last_pump_in_bout = target_df.loc[idx, 'pump_pos']\n",
    "            \n",
    "            # Label the current bout number in the 'bouts' column\n",
    "            target_df.loc[idx, 'bouts'] = current_bout\n",
    "            \n",
    "    return target_df\n",
    "\n"
   ],
   "metadata": {
    "collapsed": false
   }
  },
  {
   "cell_type": "code",
   "execution_count": null,
   "outputs": [],
   "source": [
    "# Update the threshold for identifying bouts to 210\n",
    "threshold = 330\n",
    "bout_df = merged_df.copy()"
   ],
   "metadata": {
    "collapsed": false
   }
  },
  {
   "cell_type": "code",
   "execution_count": null,
   "outputs": [],
   "source": [
    "df = calculate_bouts(bout_df,threshold)"
   ],
   "metadata": {
    "collapsed": false
   }
  },
  {
   "cell_type": "code",
   "execution_count": null,
   "outputs": [],
   "source": [
    "sorted_df = df.sort_values(by=['name', 'pump_pos'])"
   ],
   "metadata": {
    "collapsed": false
   }
  },
  {
   "cell_type": "code",
   "execution_count": null,
   "outputs": [],
   "source": [
    "print(sorted_df.head())"
   ],
   "metadata": {
    "collapsed": false
   }
  },
  {
   "cell_type": "code",
   "execution_count": null,
   "outputs": [],
   "source": [
    "import matplotlib.pyplot as plt\n",
    "def plot_bout_data(subset_df, color, sd=False, sex=\"unknown\"):\n",
    "    fig, ax = plt.subplots(figsize=(15, len(subset_df['name'].unique()) / 4))\n",
    "    unique_names = subset_df['name'].unique()\n",
    "\n",
    "    for idx, name in enumerate(unique_names):\n",
    "        sub_subset_df = subset_df[subset_df['name'] == name]\n",
    "        \n",
    "        for bout, bout_df in sub_subset_df.groupby('bouts'):\n",
    "            min_pump_pos = bout_df['pump_pos'].min()\n",
    "            ax.barh(idx, 60, left=min_pump_pos - 30, color=color, edgecolor='none')\n",
    "\n",
    "    fly_labels = [f\"Fly{i+1}\" for i in range(len(unique_names))]\n",
    "    ax.set_yticks(range(len(unique_names)))\n",
    "    ax.set_yticklabels(fly_labels)\n",
    "\n",
    "    ZT_ticks, ZT_ticklabels = generate_tick_data(30, sd=sd)\n",
    "    ax.set_xticks(ZT_ticks)\n",
    "    ax.set_xticklabels(ZT_ticklabels)\n",
    "\n",
    "    # Set x-axis limits to the beginning and end of the x-ticks\n",
    "    ax.set_xlim(ZT_ticks[0], ZT_ticks[-1])\n",
    "\n",
    "    title = f'SD_True_{sex}' if sd else f'SD_False_{sex}'\n",
    "    ax.set_title(title)\n",
    "\n",
    "    plt.tight_layout()\n",
    "    plt.savefig(f'Pump_Positions_bouts_{title}.pdf')\n",
    "    plt.show()"
   ],
   "metadata": {
    "collapsed": false
   }
  },
  {
   "cell_type": "code",
   "execution_count": null,
   "outputs": [],
   "source": [
    "def plot_bout_sub_data(df, expt_info_df, sd, sex,plot_it):\n",
    "    # Create mappings from expt_info_df\n",
    "    name_to_sd = dict(zip(expt_info_df['ExptNames'], expt_info_df['SD']))\n",
    "    name_to_sex = dict(zip(expt_info_df['ExptNames'], expt_info_df['Sex']))\n",
    "    \n",
    "    # Filter based on provided sd and sex values\n",
    "    sub_df = df[(df['name'].map(name_to_sd) == sd) & (df['name'].map(name_to_sex) == sex)]\n",
    "    \n",
    "    if plot_it:\n",
    "        plot_bout_data(sub_df, '#d62728', sd=sd,sex=sex)\n",
    "    "
   ],
   "metadata": {
    "collapsed": false
   }
  },
  {
   "cell_type": "code",
   "execution_count": null,
   "outputs": [],
   "source": [
    "plot_bout_sub_data(sorted_df,expt_info_df,True,'M',True)"
   ],
   "metadata": {
    "collapsed": false
   }
  },
  {
   "cell_type": "code",
   "execution_count": null,
   "outputs": [],
   "source": [
    "print(sorted_df.head())"
   ],
   "metadata": {
    "collapsed": false
   }
  },
  {
   "cell_type": "code",
   "execution_count": null,
   "outputs": [],
   "source": [
    "grouped = sorted_df.groupby(['name','bouts']).size().reset_index(name = 'counts')"
   ],
   "metadata": {
    "collapsed": false
   }
  },
  {
   "cell_type": "code",
   "execution_count": null,
   "outputs": [],
   "source": [
    "# Possible values for sd and sex\n",
    "sd_values = [False, True]\n",
    "sex_values = ['M', 'F']\n",
    "name_to_sd = dict(zip(expt_info_df['ExptNames'], expt_info_df['SD']))\n",
    "name_to_sex = dict(zip(expt_info_df['ExptNames'], expt_info_df['Sex']))\n",
    "\n",
    "grouped_dict = {}\n",
    "\n",
    "# Loop through each combination of sd and sex to filter and store the DataFrame\n",
    "for sd in sd_values:\n",
    "    for sex in sex_values:\n",
    "        sub_df = grouped[(grouped['name'].map(name_to_sd) == sd) & (grouped['name'].map(name_to_sex) == sex)]\n",
    "        key = f\"sd_{sd}_sex_{sex}\"\n",
    "        grouped_dict[key] = sub_df"
   ],
   "metadata": {
    "collapsed": false
   }
  },
  {
   "cell_type": "code",
   "execution_count": null,
   "outputs": [],
   "source": [
    "grouped_dict.keys()"
   ],
   "metadata": {
    "collapsed": false
   }
  },
  {
   "cell_type": "code",
   "execution_count": null,
   "outputs": [],
   "source": [
    "import matplotlib.pyplot as plt\n",
    "import numpy as np\n",
    "def plot_single_histogram_with_average(grouped_df, title):\n",
    "    plt.figure(figsize=(12, 8))\n",
    "    \n",
    "    all_hist_data = []\n",
    "    \n",
    "    # Determine common bin edges based on the entire data range\n",
    "    data_min = grouped_df['counts'].min()\n",
    "    data_max = grouped_df['counts'].max()\n",
    "    bin_edges = np.linspace(data_min, data_max, 21)\n",
    "    \n",
    "    for name, group in grouped_df.groupby('name'):\n",
    "        hist_data, _ = np.histogram(group['counts'], bins=bin_edges, density=True)\n",
    "        all_hist_data.append(hist_data)\n",
    "        \n",
    "        # Using plt.plot with specified linewidth\n",
    "        plt.plot(bin_edges[:-1], hist_data, label=f\"{name}\", alpha=0.5, color='lightblue', linewidth=1)\n",
    "    \n",
    "    # Compute the average histogram\n",
    "    avg_hist = np.mean(all_hist_data, axis=0)\n",
    "    \n",
    "    # Using step function for connected bars\n",
    "    plt.step(bin_edges[:-1], avg_hist, where='mid', color='black', label='Average', linewidth=2, alpha=0.7)\n",
    "    \n",
    "    plt.title(title)\n",
    "    plt.xlabel('Counts')\n",
    "    plt.ylabel('Frequency')\n",
    "    plt.legend()\n",
    "    plt.show()"
   ],
   "metadata": {
    "collapsed": false
   }
  },
  {
   "cell_type": "code",
   "execution_count": null,
   "outputs": [],
   "source": [
    "print(grouped_dict['sd_False_sex_M'].head())"
   ],
   "metadata": {
    "collapsed": false
   }
  },
  {
   "cell_type": "code",
   "execution_count": null,
   "outputs": [],
   "source": [
    "plot_single_histogram_with_average(grouped_dict['sd_True_sex_F'],'title')"
   ],
   "metadata": {
    "collapsed": false
   }
  },
  {
   "cell_type": "code",
   "execution_count": null,
   "outputs": [],
   "source": [
    "grouped_dict['sd_False_sex_M']"
   ],
   "metadata": {
    "collapsed": false
   }
  },
  {
   "cell_type": "code",
   "execution_count": null,
   "outputs": [],
   "source": [
    "import seaborn as sns\n",
    "import matplotlib.pyplot as plt\n",
    "\n",
    "import seaborn as sns\n",
    "import matplotlib.pyplot as plt\n",
    "\n",
    "def plot_grouped_boxplots(grouped_dict, filename=None):\n",
    "    fig, axes = plt.subplots(nrows=1, ncols=2, figsize=(14, 6))\n",
    "    \n",
    "    # Plot for sd=False\n",
    "    sns.boxplot(data=[grouped_dict[key]['counts'] for key in grouped_dict if 'sd_False' in key], \n",
    "                ax=axes[0], showfliers=False)\n",
    "    axes[0].set_xticklabels([key for key in grouped_dict if 'sd_False' in key])\n",
    "    axes[0].set_title(\"sd=False\")\n",
    "    axes[0].set_ylabel(\"Counts\")\n",
    "    \n",
    "    # Plot for sd=True\n",
    "    sns.boxplot(data=[grouped_dict[key]['counts'] for key in grouped_dict if 'sd_True' in key], \n",
    "                ax=axes[1], showfliers=False)\n",
    "    axes[1].set_xticklabels([key for key in grouped_dict if 'sd_True' in key])\n",
    "    axes[1].set_title(\"sd=True\")\n",
    "    axes[1].set_ylabel(\"Counts\")\n",
    "\n",
    "    plt.tight_layout()\n",
    "    \n",
    "    if filename:\n",
    "        plt.savefig(filename, dpi=300, bbox_inches='tight')\n",
    "    else:\n",
    "        plt.show()\n",
    "\n",
    "# Usage:\n",
    "plot_grouped_boxplots(grouped_dict, filename=\"bout_box_plot.pdf\")\n",
    "\n",
    "\n"
   ],
   "metadata": {
    "collapsed": false
   }
  },
  {
   "cell_type": "code",
   "execution_count": null,
   "outputs": [],
   "source": [
    "suber_df.sort_values(by=['counts'],ascending=False)"
   ],
   "metadata": {
    "collapsed": false
   }
  },
  {
   "cell_type": "code",
   "execution_count": null,
   "outputs": [],
   "source": [
    "sorted_df[sorted_df['name'] == 'Fly06272022_5d_A']"
   ],
   "metadata": {
    "collapsed": false
   }
  },
  {
   "cell_type": "code",
   "execution_count": null,
   "outputs": [],
   "source": [
    "grouped"
   ],
   "metadata": {
    "collapsed": false
   }
  },
  {
   "cell_type": "code",
   "execution_count": null,
   "outputs": [],
   "source": [
    "rep_trace_path = r'Z:\\mfk\\basty-projects\\bouts_to_csv\\Fly06272022_5d_A.csv'\n",
    "rep_trace = pd.read_csv(rep_trace_path)\n",
    "# Define your start, stop, and step values for the ticks\n",
    "start = 500\n",
    "stop = 5600\n",
    "step = 10*30\n",
    "\n",
    "# Generate the tick positions and labels\n",
    "tick_positions = np.arange(start, stop, step)\n",
    "tick_labels = np.arange(0, len(tick_positions)*10, 10)\n",
    "\n",
    "# Plot the data\n",
    "plt.plot(rep_trace['65'][start:stop])\n",
    "plt.ylabel('Euclidian Distance (px)')\n",
    "plt.xlabel('Time (s)')\n",
    "# Set the x-axis ticks and labels\n",
    "plt.xticks(tick_positions, tick_labels)\n",
    "plt.savefig('example_trace_49_pumps_trial_65_fly06272022_5d_A.pdf', dpi=300, bbox_inches='tight')\n",
    "plt.show()\n"
   ],
   "metadata": {
    "collapsed": false
   }
  },
  {
   "cell_type": "code",
   "execution_count": null,
   "outputs": [],
   "source": [
    "# Calculate the count of elements in a bout for each unique name and bout\n",
    "sorted_df['bout_count'] = sorted_df.groupby(['name', 'bouts'])['peak_index'].transform('count')\n",
    "\n",
    "# Calculate the pump_pos corresponding to the first element (minimum) for a bout\n",
    "sorted_df['min_pump_pos'] = sorted_df.groupby(['name', 'bouts'])['pump_pos'].transform('min')\n"
   ],
   "metadata": {
    "collapsed": false
   }
  },
  {
   "cell_type": "code",
   "execution_count": null,
   "outputs": [],
   "source": [
    "distinct_df = sorted_df[['name', 'bout_count','min_pump_pos']].drop_duplicates().reset_index(drop=True)"
   ],
   "metadata": {
    "collapsed": false
   }
  },
  {
   "cell_type": "code",
   "execution_count": null,
   "outputs": [],
   "source": [
    "sns.scatterplot(x='min_pump_pos', y='bout_count', data=sub_distinct)\n",
    "plt.title('Scatterplot of bout_count vs. min_pump_pos')\n",
    "plt.show()"
   ],
   "metadata": {
    "collapsed": false
   }
  },
  {
   "cell_type": "code",
   "execution_count": 169,
   "outputs": [],
   "source": [
    "sub_distinct =  distinct_df[(distinct_df['name'].map(name_to_sd) == True) ]"
   ],
   "metadata": {
    "collapsed": false,
    "ExecuteTime": {
     "end_time": "2023-10-17T02:42:22.305541800Z",
     "start_time": "2023-10-17T02:42:22.273953Z"
    }
   }
  },
  {
   "cell_type": "code",
   "execution_count": null,
   "outputs": [],
   "source": [
    "unique_names = sub_distinct['name'].unique()\n",
    "\n",
    "for name in unique_names:\n",
    "    subset = sub_distinct[sub_distinct['name'] == name]\n",
    "    sns.scatterplot(x='min_pump_pos', y='bout_count', data=subset)\n",
    "    plt.title(f'Scatterplot for {name}')\n",
    "    plt.show()"
   ],
   "metadata": {
    "collapsed": false
   }
  },
  {
   "cell_type": "code",
   "execution_count": 172,
   "outputs": [
    {
     "name": "stderr",
     "output_type": "stream",
     "text": [
      "C:\\Users\\Grover\\anaconda3\\envs\\flysleepcl\\lib\\site-packages\\seaborn\\axisgrid.py:118: UserWarning: The figure layout has changed to tight\n",
      "  self._figure.tight_layout(*args, **kwargs)\n"
     ]
    },
    {
     "data": {
      "text/plain": "<Figure size 500x500 with 1 Axes>",
      "image/png": "[encoded data removed]"
     },
     "metadata": {},
     "output_type": "display_data"
    }
   ],
   "source": [
    "from scipy.stats import spearmanr\n",
    "sns.lmplot(x='min_pump_pos',y='bout_count',data = sub_distinct)\n",
    "rho, p = spearmanr(sub_distinct['min_pump_pos'], sub_distinct['bout_count'])\n",
    "plt.title(f\"Relationship between min_pump_pos and bout_count\\nSpearman's rho: {rho:.2f} | p-value: {p:.4f}\")\n",
    "plt.show()"
   ],
   "metadata": {
    "collapsed": false,
    "ExecuteTime": {
     "end_time": "2023-10-17T02:45:17.545573100Z",
     "start_time": "2023-10-17T02:45:17.261003600Z"
    }
   }
  },
  {
   "cell_type": "code",
   "execution_count": 175,
   "outputs": [
    {
     "name": "stdout",
     "output_type": "stream",
     "text": [
      "    peak_index        value  trial_id            name  start  pump_pos  bouts  \\\n",
      "0          534  1014.361120         0  Fly05182022_5d   2349      2883      0   \n",
      "1          694  1017.733769         0  Fly05182022_5d   2349      3043      0   \n",
      "2          903  1027.228163         0  Fly05182022_5d   2349      3252      0   \n",
      "3         1207  1021.721591         0  Fly05182022_5d   2349      3556      0   \n",
      "84        1439   916.637105         0  Fly05182022_5d   2349      3788      0   \n",
      "\n",
      "    bout_count  min_pump_pos  \n",
      "0            6          2883  \n",
      "1            6          2883  \n",
      "2            6          2883  \n",
      "3            6          2883  \n",
      "84           6          2883  \n"
     ]
    }
   ],
   "source": [
    "print(sorted_df.head())"
   ],
   "metadata": {
    "collapsed": false,
    "ExecuteTime": {
     "end_time": "2023-10-17T02:46:06.890974500Z",
     "start_time": "2023-10-17T02:46:06.866076Z"
    }
   }
  },
  {
   "cell_type": "code",
   "execution_count": 187,
   "outputs": [
    {
     "name": "stderr",
     "output_type": "stream",
     "text": [
      "C:\\Users\\Grover\\AppData\\Local\\Temp\\ipykernel_39200\\2093103244.py:7: SettingWithCopyWarning: \n",
      "A value is trying to be set on a copy of a slice from a DataFrame.\n",
      "Try using .loc[row_indexer,col_indexer] = value instead\n",
      "\n",
      "See the caveats in the documentation: https://pandas.pydata.org/pandas-docs/stable/user_guide/indexing.html#returning-a-view-versus-a-copy\n",
      "  filtered_df['peak_diff'] = filtered_df.groupby(['name', 'bouts'])['pump_pos'].diff().fillna(0)\n"
     ]
    }
   ],
   "source": [
    "threshold = 3\n",
    "\n",
    "# Filtering based on bout_count\n",
    "filtered_df = sorted_df[sorted_df['bout_count'] >= threshold]\n",
    "\n",
    "# Calculate differences between consecutive peak_index values for each group\n",
    "filtered_df['peak_diff'] = filtered_df.groupby(['name', 'bouts'])['pump_pos'].diff().fillna(0)\n"
   ],
   "metadata": {
    "collapsed": false,
    "ExecuteTime": {
     "end_time": "2023-10-17T03:09:11.184815Z",
     "start_time": "2023-10-17T03:09:11.163810300Z"
    }
   }
  },
  {
   "cell_type": "code",
   "execution_count": 188,
   "outputs": [],
   "source": [
    "filtered_df = filtered_df[filtered_df['peak_diff'] != 0]"
   ],
   "metadata": {
    "collapsed": false,
    "ExecuteTime": {
     "end_time": "2023-10-17T03:09:16.457460700Z",
     "start_time": "2023-10-17T03:09:16.432454800Z"
    }
   }
  },
  {
   "cell_type": "code",
   "execution_count": 192,
   "outputs": [
    {
     "data": {
      "text/plain": "110.65689102564103"
     },
     "execution_count": 192,
     "metadata": {},
     "output_type": "execute_result"
    }
   ],
   "source": [
    "filtered_df.peak_diff.mean()"
   ],
   "metadata": {
    "collapsed": false,
    "ExecuteTime": {
     "end_time": "2023-10-17T03:12:07.876769400Z",
     "start_time": "2023-10-17T03:12:07.830751200Z"
    }
   }
  },
  {
   "cell_type": "code",
   "execution_count": 206,
   "outputs": [
    {
     "name": "stderr",
     "output_type": "stream",
     "text": [
      "C:\\Users\\Grover\\anaconda3\\envs\\flysleepcl\\lib\\site-packages\\seaborn\\axisgrid.py:118: UserWarning: The figure layout has changed to tight\n",
      "  self._figure.tight_layout(*args, **kwargs)\n"
     ]
    },
    {
     "data": {
      "text/plain": "<Figure size 500x500 with 1 Axes>",
      "image/png": "[encoded data removed]"
     },
     "metadata": {},
     "output_type": "display_data"
    }
   ],
   "source": [
    "import seaborn as sns\n",
    "import numpy as np\n",
    "import matplotlib.pyplot as plt\n",
    "\n",
    "# PLOT ECDF FOR ALL THE DATA\n",
    "\n",
    "# Create displot with ECDF\n",
    "sns.displot(x=filtered_df['peak_diff'], kind='hist')\n",
    "\n",
    "# Adjusting x-ticks to 1-second increments (30 data points = 1 second)\n",
    "max_value = filtered_df['peak_diff'].max()\n",
    "xticks = np.arange(0, max_value + 30, 30)\n",
    "xticklabels = [str(int(x/30)) for x in xticks]\n",
    "\n",
    "plt.xticks(xticks, xticklabels)\n",
    "plt.xlabel('Time (sec)')\n",
    "plt.ylabel('Proportion')\n",
    "plt.title('ECDF of Peak Differences')\n",
    "\n",
    "# Add a dashed vertical line at the 3-second mark (90 data points)\n",
    "plt.axvline(x=90, linestyle='--', color='red', label='3 seconds')\n",
    "\n",
    "# Calculate and plot the 50%, 75%, and 95% quantiles\n",
    "for quantile, color in zip([0.50, 0.75, 0.95], ['blue', 'green', 'purple']):\n",
    "    value_at_quantile = np.percentile(filtered_df['peak_diff'], quantile * 100)\n",
    "    plt.axvline(x=value_at_quantile, linestyle='--', color=color, label=f'{int(quantile * 100)}% quantile')\n",
    "\n",
    "plt.legend()\n",
    "plt.show()\n",
    "\n"
   ],
   "metadata": {
    "collapsed": false,
    "ExecuteTime": {
     "end_time": "2023-10-17T19:53:40.886791500Z",
     "start_time": "2023-10-17T19:53:40.559853100Z"
    }
   }
  },
  {
   "cell_type": "code",
   "execution_count": null,
   "outputs": [],
   "source": [
    "# PLOT ECDF with different groups in the same plot.\n",
    "\n"
   ],
   "metadata": {
    "collapsed": false
   }
  },
  {
   "cell_type": "code",
   "execution_count": 195,
   "outputs": [],
   "source": [
    "from sklearn.mixture import GaussianMixture\n",
    "import numpy as np\n",
    "\n",
    "data = filtered_df['peak_diff'].values.reshape(-1, 1)\n",
    "lowest_bic = np.infty\n",
    "best_n = None\n",
    "best_gmm = None\n",
    "\n",
    "n_components_range = [2,3,4,5]\n",
    "for n in n_components_range:\n",
    "    gmm = GaussianMixture(n_components=n)\n",
    "    gmm.fit(data)\n",
    "    bic = gmm.bic(data)\n",
    "    if bic < lowest_bic:\n",
    "        lowest_bic = bic\n",
    "        best_n = n\n",
    "        best_gmm = gmm\n",
    "\n",
    "labels = best_gmm.predict(data)\n"
   ],
   "metadata": {
    "collapsed": false,
    "ExecuteTime": {
     "end_time": "2023-10-17T03:14:50.022516700Z",
     "start_time": "2023-10-17T03:14:49.874972700Z"
    }
   }
  },
  {
   "cell_type": "code",
   "execution_count": 196,
   "outputs": [
    {
     "data": {
      "text/plain": "4"
     },
     "execution_count": 196,
     "metadata": {},
     "output_type": "execute_result"
    }
   ],
   "source": [
    "best_n"
   ],
   "metadata": {
    "collapsed": false,
    "ExecuteTime": {
     "end_time": "2023-10-17T03:14:50.522240800Z",
     "start_time": "2023-10-17T03:14:50.500023400Z"
    }
   }
  },
  {
   "cell_type": "code",
   "execution_count": 198,
   "outputs": [
    {
     "data": {
      "text/plain": "<Figure size 640x480 with 1 Axes>",
      "image/png": "[encoded data removed]"
     },
     "metadata": {},
     "output_type": "display_data"
    }
   ],
   "source": [
    "import matplotlib.pyplot as plt\n",
    "\n",
    "# Histogram Visualization for the GMM Clustering\n",
    "unique_labels = np.unique(labels)\n",
    "colors = ['blue', 'green', 'red', 'purple', 'orange']  # Colors for each cluster\n",
    "\n",
    "for i, label in enumerate(unique_labels):\n",
    "    plt.hist(data[labels == label], bins=30, alpha=0.5, color=colors[i], label=f'Cluster {label + 1}')\n",
    "\n",
    "plt.legend()\n",
    "plt.title(f'GMM Clustering of Peak Differences with {best_n} Clusters')\n",
    "plt.xlabel('Peak Difference')\n",
    "plt.ylabel('Frequency')\n",
    "plt.show()\n",
    "\n"
   ],
   "metadata": {
    "collapsed": false,
    "ExecuteTime": {
     "end_time": "2023-10-17T03:16:59.943942200Z",
     "start_time": "2023-10-17T03:16:59.618855900Z"
    }
   }
  },
  {
   "cell_type": "code",
   "execution_count": 199,
   "outputs": [
    {
     "data": {
      "text/plain": "      peak_index        value  trial_id                 name   start  \\\n1            694  1017.733769         0       Fly05182022_5d    2349   \n2            903  1027.228163         0       Fly05182022_5d    2349   \n3           1207  1021.721591         0       Fly05182022_5d    2349   \n84          1439   916.637105         0       Fly05182022_5d    2349   \n4           1623  1023.545935         0       Fly05182022_5d    2349   \n...          ...          ...       ...                  ...     ...   \n8486         835   387.119720        22  Fly08032022_6d_SD_B  625280   \n8487         905   386.726096        22  Fly08032022_6d_SD_B  625280   \n8488         966   389.234434        22  Fly08032022_6d_SD_B  625280   \n8489        1041   504.997931        22  Fly08032022_6d_SD_B  625280   \n8490        1140   387.304468        22  Fly08032022_6d_SD_B  625280   \n\n      pump_pos  bouts  bout_count  min_pump_pos  peak_diff  \n1         3043      0           6          2883      160.0  \n2         3252      0           6          2883      209.0  \n3         3556      0           6          2883      304.0  \n84        3788      0           6          2883      232.0  \n4         3972      0           6          2883      184.0  \n...        ...    ...         ...           ...        ...  \n8486    626115     31           9        625816       68.0  \n8487    626185     31           9        625816       70.0  \n8488    626246     31           9        625816       61.0  \n8489    626321     31           9        625816       75.0  \n8490    626420     31           9        625816       99.0  \n\n[6240 rows x 10 columns]",
      "text/html": "<div>\n<style scoped>\n    .dataframe tbody tr th:only-of-type {\n        vertical-align: middle;\n    }\n\n    .dataframe tbody tr th {\n        vertical-align: top;\n    }\n\n    .dataframe thead th {\n        text-align: right;\n    }\n</style>\n<table border=\"1\" class=\"dataframe\">\n  <thead>\n    <tr style=\"text-align: right;\">\n      <th></th>\n      <th>peak_index</th>\n      <th>value</th>\n      <th>trial_id</th>\n      <th>name</th>\n      <th>start</th>\n      <th>pump_pos</th>\n      <th>bouts</th>\n      <th>bout_count</th>\n      <th>min_pump_pos</th>\n      <th>peak_diff</th>\n    </tr>\n  </thead>\n  <tbody>\n    <tr>\n      <th>1</th>\n      <td>694</td>\n      <td>1017.733769</td>\n      <td>0</td>\n      <td>Fly05182022_5d</td>\n      <td>2349</td>\n      <td>3043</td>\n      <td>0</td>\n      <td>6</td>\n      <td>2883</td>\n      <td>160.0</td>\n    </tr>\n    <tr>\n      <th>2</th>\n      <td>903</td>\n      <td>1027.228163</td>\n      <td>0</td>\n      <td>Fly05182022_5d</td>\n      <td>2349</td>\n      <td>3252</td>\n      <td>0</td>\n      <td>6</td>\n      <td>2883</td>\n      <td>209.0</td>\n    </tr>\n    <tr>\n      <th>3</th>\n      <td>1207</td>\n      <td>1021.721591</td>\n      <td>0</td>\n      <td>Fly05182022_5d</td>\n      <td>2349</td>\n      <td>3556</td>\n      <td>0</td>\n      <td>6</td>\n      <td>2883</td>\n      <td>304.0</td>\n    </tr>\n    <tr>\n      <th>84</th>\n      <td>1439</td>\n      <td>916.637105</td>\n      <td>0</td>\n      <td>Fly05182022_5d</td>\n      <td>2349</td>\n      <td>3788</td>\n      <td>0</td>\n      <td>6</td>\n      <td>2883</td>\n      <td>232.0</td>\n    </tr>\n    <tr>\n      <th>4</th>\n      <td>1623</td>\n      <td>1023.545935</td>\n      <td>0</td>\n      <td>Fly05182022_5d</td>\n      <td>2349</td>\n      <td>3972</td>\n      <td>0</td>\n      <td>6</td>\n      <td>2883</td>\n      <td>184.0</td>\n    </tr>\n    <tr>\n      <th>...</th>\n      <td>...</td>\n      <td>...</td>\n      <td>...</td>\n      <td>...</td>\n      <td>...</td>\n      <td>...</td>\n      <td>...</td>\n      <td>...</td>\n      <td>...</td>\n      <td>...</td>\n    </tr>\n    <tr>\n      <th>8486</th>\n      <td>835</td>\n      <td>387.119720</td>\n      <td>22</td>\n      <td>Fly08032022_6d_SD_B</td>\n      <td>625280</td>\n      <td>626115</td>\n      <td>31</td>\n      <td>9</td>\n      <td>625816</td>\n      <td>68.0</td>\n    </tr>\n    <tr>\n      <th>8487</th>\n      <td>905</td>\n      <td>386.726096</td>\n      <td>22</td>\n      <td>Fly08032022_6d_SD_B</td>\n      <td>625280</td>\n      <td>626185</td>\n      <td>31</td>\n      <td>9</td>\n      <td>625816</td>\n      <td>70.0</td>\n    </tr>\n    <tr>\n      <th>8488</th>\n      <td>966</td>\n      <td>389.234434</td>\n      <td>22</td>\n      <td>Fly08032022_6d_SD_B</td>\n      <td>625280</td>\n      <td>626246</td>\n      <td>31</td>\n      <td>9</td>\n      <td>625816</td>\n      <td>61.0</td>\n    </tr>\n    <tr>\n      <th>8489</th>\n      <td>1041</td>\n      <td>504.997931</td>\n      <td>22</td>\n      <td>Fly08032022_6d_SD_B</td>\n      <td>625280</td>\n      <td>626321</td>\n      <td>31</td>\n      <td>9</td>\n      <td>625816</td>\n      <td>75.0</td>\n    </tr>\n    <tr>\n      <th>8490</th>\n      <td>1140</td>\n      <td>387.304468</td>\n      <td>22</td>\n      <td>Fly08032022_6d_SD_B</td>\n      <td>625280</td>\n      <td>626420</td>\n      <td>31</td>\n      <td>9</td>\n      <td>625816</td>\n      <td>99.0</td>\n    </tr>\n  </tbody>\n</table>\n<p>6240 rows × 10 columns</p>\n</div>"
     },
     "execution_count": 199,
     "metadata": {},
     "output_type": "execute_result"
    }
   ],
   "source": [
    "filtered_df"
   ],
   "metadata": {
    "collapsed": false,
    "ExecuteTime": {
     "end_time": "2023-10-17T17:42:18.538587200Z",
     "start_time": "2023-10-17T17:42:18.489369700Z"
    }
   }
  },
  {
   "cell_type": "code",
   "execution_count": null,
   "outputs": [],
   "source": [],
   "metadata": {
    "collapsed": false
   }
  }
 ],
 "metadata": {
  "kernelspec": {
   "display_name": "Python 3",
   "language": "python",
   "name": "python3"
  },
  "language_info": {
   "codemirror_mode": {
    "name": "ipython",
    "version": 2
   },
   "file_extension": ".py",
   "mimetype": "text/x-python",
   "name": "python",
   "nbconvert_exporter": "python",
   "pygments_lexer": "ipython2",
   "version": "2.7.6"
  }
 },
 "nbformat": 4,
 "nbformat_minor": 0
}

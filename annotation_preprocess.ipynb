{
 "cells": [
  {
   "cell_type": "code",
   "execution_count": null,
   "metadata": {
    "collapsed": true
   },
   "outputs": [],
   "source": [
    "# Following script combines the annotation data with the time series data\n",
    "path = r'C:\\Users\\Grover\\Documents\\GitHub\\EZLabel\\true_annotations'\n",
    "dict_path = r'Z:\\mfk\\basty-projects\\tmp_results\\predictions\\ProboscisPumping\\bouts_dict.pkl'\n",
    "\n",
    "import pandas as pd\n",
    "import os\n",
    "import glob\n",
    "\n",
    "\n",
    "def process_row(row, dictionary, N):\n",
    "    df_dict = dictionary[row['name']]\n",
    "    df_dict_filtered = df_dict.drop(['start_index', 'stop_index', 'region'], axis=1)\n",
    "\n",
    "    trial_id = int(row['trial_id'])\n",
    "    peak_index = row['peak_index']\n",
    "\n",
    "    # New dictionary to store sliced data with column names\n",
    "    sliced_data_dict = {}\n",
    "\n",
    "    for col in df_dict_filtered.columns:\n",
    "        if peak_index-N >= 0 and peak_index+N <= len(df_dict_filtered.loc[trial_id, col]):\n",
    "            start = max(0, peak_index - N)\n",
    "            end = min(len(df_dict_filtered.loc[trial_id, col]), peak_index + N)\n",
    "            sliced_data_dict[col] = df_dict_filtered.loc[trial_id, col][start:end]\n",
    "\n",
    "    return sliced_data_dict\n"
   ]
  },
  {
   "cell_type": "code",
   "execution_count": null,
   "outputs": [],
   "source": [
    "\n",
    "pkl_files = glob.glob(os.path.join(path, '*.pkl'))\n",
    "ts_dict = pd.read_pickle(dict_path)\n",
    "\n",
    "df_list = []  # A list to store each DataFrame\n",
    "\n",
    "\n",
    "for file in pkl_files:\n",
    "    data = pd.read_pickle(file)\n",
    "    df = pd.DataFrame(data)\n",
    "    df['name'] = os.path.splitext(os.path.basename(file))[0]\n",
    "    df_list.append(df)  # Append the DataFrame to the list\n",
    "\n",
    "# Concatenate all the DataFrames in the list into a single DataFrame\n",
    "annotations = pd.concat(df_list, ignore_index=True)\n",
    "\n",
    "# Rename the columns to make it more intuitive\n",
    "annotations.rename(columns = {'index':'peak_index','column':'trial_id'},inplace=True)"
   ],
   "metadata": {
    "collapsed": false
   }
  },
  {
   "cell_type": "code",
   "execution_count": null,
   "outputs": [],
   "source": [
    "annotations"
   ],
   "metadata": {
    "collapsed": false
   }
  },
  {
   "cell_type": "code",
   "execution_count": null,
   "outputs": [],
   "source": [
    "annotations"
   ],
   "metadata": {
    "collapsed": false
   }
  },
  {
   "cell_type": "code",
   "execution_count": null,
   "outputs": [],
   "source": [
    "# Create an empty DataFrame to store all the processed rows\n",
    "processed_data_df = pd.DataFrame()\n",
    "\n",
    "# Initialize a counter for slice\n",
    "slice_counter = 0\n",
    "\n",
    "# Loop through each row in annotations\n",
    "for i, row in annotations.iterrows():\n",
    "    processed_row = process_row(row, ts_dict, 30)\n",
    "\n",
    "    # Create a DataFrame for this row\n",
    "    row_df = pd.DataFrame(processed_row)\n",
    "\n",
    "    # Add 'slice_id' to the DataFrame\n",
    "    row_df['slice_id'] = slice_counter\n",
    "\n",
    "    # Set a multi-index using 'name', 'slice_id' and the existing index of row_df\n",
    "    row_df.index = pd.MultiIndex.from_tuples([(row['name'], slice_counter, i) for i in row_df.index],\n",
    "                                             names=['name', 'slice_id', 'time'])\n",
    "\n",
    "    # Append it to processed_data_df\n",
    "    processed_data_df = pd.concat([processed_data_df, row_df])\n",
    "\n",
    "    # Increment the slice_counter\n",
    "    slice_counter += 1\n"
   ],
   "metadata": {
    "collapsed": false
   }
  },
  {
   "cell_type": "code",
   "execution_count": null,
   "outputs": [],
   "source": [
    "import numpy as np\n",
    "# Create a dictionary where key is (name, slice_id) and value is the sub-DataFrame\n",
    "df_dict = dict(tuple(processed_data_df.groupby(level=['name', 'slice_id'])))\n",
    "\n",
    "# Initialize an empty list to store each 2D array\n",
    "array_list = []\n",
    "\n",
    "# Loop over the dictionary\n",
    "for key in df_dict:\n",
    "    # Convert each DataFrame to a 2D numpy array and append to list\n",
    "    array_list.append(df_dict[key].values)\n",
    "\n",
    "# Convert list of arrays to a 3D numpy array\n",
    "np_array = np.stack(array_list)\n"
   ],
   "metadata": {
    "collapsed": false
   }
  },
  {
   "cell_type": "code",
   "execution_count": null,
   "outputs": [],
   "source": [
    "output_path = r'C:\\Users\\Grover\\Documents\\GitHub\\EZLabel'\n",
    "\n",
    "processed_data_df.to_pickle(os.path.join(output_path,'false_peak_annotations.pkl'))"
   ],
   "metadata": {
    "collapsed": false
   }
  },
  {
   "cell_type": "code",
   "execution_count": null,
   "outputs": [],
   "source": [
    "np.save(os.path.join(output_path,'false_peak_annotations.npy'),np_array)"
   ],
   "metadata": {
    "collapsed": false
   }
  },
  {
   "cell_type": "code",
   "execution_count": null,
   "outputs": [],
   "source": [
    "output_path = r'C:\\Users\\Grover\\Documents\\GitHub\\EZLabel\\true_annotations\\output'\n",
    "annotations.to_pickle(os.path.join(output_path,'true_annotations.pkl'))"
   ],
   "metadata": {
    "collapsed": false
   }
  },
  {
   "cell_type": "code",
   "execution_count": 1,
   "outputs": [],
   "source": [
    "import pandas as pd\n",
    "import os\n",
    "\n",
    "# Load annotations and experimental info: \n",
    "path = r'C:\\Users\\Grover\\Documents\\GitHub\\EZLabel\\true_annotations'\n",
    "annotations = pd.read_pickle(os.path.join(path,'output','true_annotations.pkl'))\n",
    "expt_info_df_path = r'Z:\\mfk\\basty-projects\\expt_info_df.pkl'\n",
    "expt_info_df = pd.read_pickle(expt_info_df_path)\n",
    "\n",
    "# Fetch all .mp4 files from the directory\n",
    "directory = r'Y:\\DeepSleepPaperData\\Annotated\\PredictedVideos\\Pumping'\n",
    "file_names = [f for f in os.listdir(directory) if f.endswith('.mp4')]\n",
    "\n",
    "# Process each filename\n",
    "data = []\n",
    "\n",
    "for file in file_names:\n",
    "    parts = file.split(\"_\")\n",
    "\n",
    "    index_position = parts.index('index')\n",
    "    name = \"_\".join(parts[:index_position])\n",
    "    trial_id = int(parts[index_position + 1])\n",
    "    start = int(parts[parts.index('start') + 1])\n",
    "\n",
    "    data.append([name, trial_id, start])\n",
    "\n",
    "# Construct the DataFrame\n",
    "df = pd.DataFrame(data, columns=[\"name\", \"trial_id\", \"start\"])\n",
    "\n",
    "annotations['trial_id'] = annotations['trial_id'].astype('int64')\n",
    "df['trial_id'] = df['trial_id'].astype('int64')\n",
    "merged_df = annotations.merge(df[['name', 'trial_id', 'start']], on=['name', 'trial_id'], how='left')\n",
    "\n",
    "merged_df['pump_pos'] = merged_df['peak_index'] + merged_df['start']"
   ],
   "metadata": {
    "collapsed": false,
    "ExecuteTime": {
     "end_time": "2023-10-02T21:16:40.099748100Z",
     "start_time": "2023-10-02T21:16:39.810418900Z"
    }
   }
  },
  {
   "cell_type": "code",
   "execution_count": null,
   "outputs": [],
   "source": [
    "expt_info_df"
   ],
   "metadata": {
    "collapsed": false
   }
  },
  {
   "cell_type": "code",
   "execution_count": 2,
   "outputs": [],
   "source": [
    "name_to_sd = dict(zip(expt_info_df['ExptNames'], expt_info_df['SD']))\n",
    "name_to_sex = dict(zip(expt_info_df['ExptNames'], expt_info_df['Sex']))\n",
    "\n",
    "df = merged_df\n",
    "\n",
    "# Split df into two based on SD value\n",
    "df_sd_true = df[df['name'].map(name_to_sd)]\n",
    "df_sd_false = df[~df['name'].map(name_to_sd)]"
   ],
   "metadata": {
    "collapsed": false,
    "ExecuteTime": {
     "end_time": "2023-10-02T21:16:42.792323400Z",
     "start_time": "2023-10-02T21:16:42.773320800Z"
    }
   }
  },
  {
   "cell_type": "code",
   "execution_count": 14,
   "outputs": [],
   "source": [
    "import matplotlib.pyplot as plt\n",
    "import matplotlib as mpl\n",
    "\n",
    "import numpy as np\n",
    "\n",
    "mpl.rcParams['pdf.fonttype'] = 42\n",
    "mpl.rcParams['font.family'] = 'Arial'\n",
    "\n",
    "# Helper function to plot given a subset of df\n",
    "def plot_data(subset_df, color, sd, sex):\n",
    "    fig, ax = plt.subplots(figsize=(15, len(subset_df['name'].unique()) / 4))\n",
    "    unique_names = subset_df['name'].unique()\n",
    "\n",
    "    for idx, name in enumerate(unique_names):\n",
    "        sub_subset_df = subset_df[subset_df['name'] == name]\n",
    "        for _, row in sub_subset_df.iterrows():\n",
    "            pump_pos = row['pump_pos']\n",
    "            ax.barh(idx, 60, left=pump_pos - 30, color=color, edgecolor='none')\n",
    "\n",
    "    fly_labels = [f\"Fly{i+1}\" for i in range(len(unique_names))]\n",
    "    ax.set_yticks(range(len(unique_names)))\n",
    "    ax.set_yticklabels(fly_labels)\n",
    "\n",
    "    ZT_ticks, ZT_ticklabels = generate_tick_data(30, sd=sd)\n",
    "    ax.set_xticks(ZT_ticks)\n",
    "    ax.set_xticklabels(ZT_ticklabels)\n",
    "\n",
    "    # Set x-axis limits to the beginning and end of the x-ticks\n",
    "    ax.set_xlim(ZT_ticks[0], ZT_ticks[-1])\n",
    "\n",
    "    title = f'SD_True_{sex}' if sd else f'SD_False_{sex}'\n",
    "    ax.set_title(title)\n",
    "\n",
    "    plt.tight_layout()\n",
    "    plt.savefig(f'Pump_Positions_{title}.pdf')\n",
    "    plt.show()\n",
    "\n",
    "\n",
    "# Function to plot data for SD = True\n",
    "def plot_sd_true():\n",
    "    df_sd_true = df[df['name'].map(name_to_sd)]\n",
    "    plot_data(df_sd_true, '#377eb8', sd=True)\n",
    "\n",
    "\n",
    "# Function to plot data for SD = False\n",
    "def plot_sd_false():\n",
    "    df_sd_false = df[~df['name'].map(name_to_sd)]\n",
    "    plot_data(df_sd_false, '#d62728', sd=False)\n",
    "    \n",
    "def plot_sub_data(df, expt_info_df, sd, sex,plot_it):\n",
    "    # Create mappings from expt_info_df\n",
    "    name_to_sd = dict(zip(expt_info_df['ExptNames'], expt_info_df['SD']))\n",
    "    name_to_sex = dict(zip(expt_info_df['ExptNames'], expt_info_df['Sex']))\n",
    "    \n",
    "    # Filter based on provided sd and sex values\n",
    "    sub_df = df[(df['name'].map(name_to_sd) == sd) & (df['name'].map(name_to_sex) == sex)]\n",
    "    \n",
    "    if plot_it:\n",
    "        plot_data(sub_df, '#d62728', sd=sd,sex=sex)\n",
    "    \n",
    "    return sub_df,sd,sex\n",
    "    \n",
    "def generate_tick_data(FPS=30, sd=False):\n",
    "\n",
    "    if sd == False:\n",
    "        xticks = np.arange(\n",
    "            start=0, stop=FPS * 60 * 60 * 16 + 1, step=FPS * 60 * 60 * 2\n",
    "        )\n",
    "        ZT_ticks = xticks\n",
    "        ZT_ticklabels = [\n",
    "            \"ZT\" + str((tick + 10) % 24) for tick in range(0, len(xticks) * 2, 2)\n",
    "        ]\n",
    "    else:\n",
    "        xticks = np.arange(\n",
    "            start=0, stop=FPS * 60 * 60 * 6 + 1, step=FPS * 60 * 60 * 1\n",
    "        )\n",
    "        ZT_ticks = xticks\n",
    "        ZT_ticklabels = [\n",
    "            \"ZT\" + str(tick) for tick in range(0, len(xticks) * 1, 1)\n",
    "        ]\n",
    "\n",
    "    return ZT_ticks, ZT_ticklabels\n"
   ],
   "metadata": {
    "collapsed": false,
    "ExecuteTime": {
     "end_time": "2023-10-02T21:56:41.223214600Z",
     "start_time": "2023-10-02T21:56:41.197104500Z"
    }
   }
  },
  {
   "cell_type": "code",
   "execution_count": 12,
   "outputs": [
    {
     "data": {
      "text/plain": "<Figure size 1500x250 with 1 Axes>",
      "image/png": "[encoded data removed]"
     },
     "metadata": {},
     "output_type": "display_data"
    },
    {
     "data": {
      "text/plain": "      peak_index       value  trial_id              name    start  pump_pos\n157         1362  566.415327         0    Fly05202022_5d   175813    177175\n158         1454  536.827060         0    Fly05202022_5d   175813    177267\n159          533  485.680718         1    Fly05202022_5d   178307    178840\n160          572  512.966567         3    Fly05202022_5d   182461    183033\n161          657  496.870685         3    Fly05202022_5d   182461    183118\n...          ...         ...       ...               ...      ...       ...\n8041        1007  659.928192        55  Fly08012022_6d_B  1474683   1475690\n8042        1100  659.267892        55  Fly08012022_6d_B  1474683   1475783\n8043        1197  655.699800        55  Fly08012022_6d_B  1474683   1475880\n8044         931  654.759026        56  Fly08012022_6d_B  1500629   1501560\n8045         625  627.501633        56  Fly08012022_6d_B  1500629   1501254\n\n[1730 rows x 6 columns]",
      "text/html": "<div>\n<style scoped>\n    .dataframe tbody tr th:only-of-type {\n        vertical-align: middle;\n    }\n\n    .dataframe tbody tr th {\n        vertical-align: top;\n    }\n\n    .dataframe thead th {\n        text-align: right;\n    }\n</style>\n<table border=\"1\" class=\"dataframe\">\n  <thead>\n    <tr style=\"text-align: right;\">\n      <th></th>\n      <th>peak_index</th>\n      <th>value</th>\n      <th>trial_id</th>\n      <th>name</th>\n      <th>start</th>\n      <th>pump_pos</th>\n    </tr>\n  </thead>\n  <tbody>\n    <tr>\n      <th>157</th>\n      <td>1362</td>\n      <td>566.415327</td>\n      <td>0</td>\n      <td>Fly05202022_5d</td>\n      <td>175813</td>\n      <td>177175</td>\n    </tr>\n    <tr>\n      <th>158</th>\n      <td>1454</td>\n      <td>536.827060</td>\n      <td>0</td>\n      <td>Fly05202022_5d</td>\n      <td>175813</td>\n      <td>177267</td>\n    </tr>\n    <tr>\n      <th>159</th>\n      <td>533</td>\n      <td>485.680718</td>\n      <td>1</td>\n      <td>Fly05202022_5d</td>\n      <td>178307</td>\n      <td>178840</td>\n    </tr>\n    <tr>\n      <th>160</th>\n      <td>572</td>\n      <td>512.966567</td>\n      <td>3</td>\n      <td>Fly05202022_5d</td>\n      <td>182461</td>\n      <td>183033</td>\n    </tr>\n    <tr>\n      <th>161</th>\n      <td>657</td>\n      <td>496.870685</td>\n      <td>3</td>\n      <td>Fly05202022_5d</td>\n      <td>182461</td>\n      <td>183118</td>\n    </tr>\n    <tr>\n      <th>...</th>\n      <td>...</td>\n      <td>...</td>\n      <td>...</td>\n      <td>...</td>\n      <td>...</td>\n      <td>...</td>\n    </tr>\n    <tr>\n      <th>8041</th>\n      <td>1007</td>\n      <td>659.928192</td>\n      <td>55</td>\n      <td>Fly08012022_6d_B</td>\n      <td>1474683</td>\n      <td>1475690</td>\n    </tr>\n    <tr>\n      <th>8042</th>\n      <td>1100</td>\n      <td>659.267892</td>\n      <td>55</td>\n      <td>Fly08012022_6d_B</td>\n      <td>1474683</td>\n      <td>1475783</td>\n    </tr>\n    <tr>\n      <th>8043</th>\n      <td>1197</td>\n      <td>655.699800</td>\n      <td>55</td>\n      <td>Fly08012022_6d_B</td>\n      <td>1474683</td>\n      <td>1475880</td>\n    </tr>\n    <tr>\n      <th>8044</th>\n      <td>931</td>\n      <td>654.759026</td>\n      <td>56</td>\n      <td>Fly08012022_6d_B</td>\n      <td>1500629</td>\n      <td>1501560</td>\n    </tr>\n    <tr>\n      <th>8045</th>\n      <td>625</td>\n      <td>627.501633</td>\n      <td>56</td>\n      <td>Fly08012022_6d_B</td>\n      <td>1500629</td>\n      <td>1501254</td>\n    </tr>\n  </tbody>\n</table>\n<p>1730 rows × 6 columns</p>\n</div>"
     },
     "execution_count": 12,
     "metadata": {},
     "output_type": "execute_result"
    }
   ],
   "source": [
    "plot_sub_data(df,expt_info_df,sd=False,sex='F')"
   ],
   "metadata": {
    "collapsed": false,
    "ExecuteTime": {
     "end_time": "2023-10-02T21:32:22.422405100Z",
     "start_time": "2023-10-02T21:32:18.861091200Z"
    }
   }
  },
  {
   "cell_type": "code",
   "execution_count": 34,
   "outputs": [],
   "source": [
    "import pandas as pd\n",
    "\n",
    "def plot_bin_data(sub_df,sd,sex):\n",
    "    plot_Df = sub_df\n",
    "    # Convert pump_pos to minutes\n",
    "    plot_Df['pump_pos_minutes'] = plot_Df['pump_pos'] / (30 * 60)\n",
    "    \n",
    "    # Define bin edges for 60-minute intervals\n",
    "    max_minutes = plot_Df['pump_pos_minutes'].max()\n",
    "    bins = list(range(0, int(max_minutes) + 61, 60))\n",
    "    \n",
    "    # For each unique 'name', bin the data and count values in each bin\n",
    "    binned_data = {}\n",
    "    for name, group in plot_Df.groupby('name'):\n",
    "        binned_data[name] = pd.cut(group['pump_pos_minutes'], bins=bins).value_counts()\n",
    "    \n",
    "    # Convert the binned_data dictionary to a DataFrame\n",
    "    binned_df = pd.DataFrame(binned_data).T\n",
    "    binned_df = binned_df.fillna(0).astype(int)  # Replace NaN values with zeros and convert to integer type\n",
    "    \n",
    "    # Calculate the average for each bin across all \"names\"\n",
    "    melted_df = binned_df.melt(var_name='Time Bin', value_name='Average Count')\n",
    "    \n",
    "    import seaborn as sns\n",
    "\n",
    "    # Create the boxplot using seaborn\n",
    "    plt.figure(figsize=(12, 6))\n",
    "    sns.boxplot(data=melted_df, x='Time Bin', y='Average Count', showfliers=False, color=\"skyblue\", width=0.5, notch=False, boxprops=dict(edgecolor='none'))\n",
    "  # Adjusted box width and color\n",
    "    \n",
    "    # Calculate the median values for each time bin and plot them\n",
    "    medians = melted_df.groupby('Time Bin')['Average Count'].median()\n",
    "    plt.plot(range(len(medians)), medians, color='black', linestyle='-', marker='o')\n",
    "    \n",
    "    # Set the x-tick labels to your ZT values\n",
    "    if ~sd:\n",
    "        ZT_labels = [f\"ZT{((i + 10) % 24)}\" for i in range(len(medians))]\n",
    "        plt.xticks(ticks=range(len(ZT_labels)), labels=ZT_labels, rotation=45)\n",
    "    else:\n",
    "        ZT_labels = [f\"ZT{((i))}\" for i in range(len(medians))]\n",
    "        plt.xticks(ticks=range(len(ZT_labels)), labels=ZT_labels, rotation=45)\n",
    "        \n",
    "    \n",
    "    # Set y-label\n",
    "    plt.ylabel(\"Pump per Hour\")\n",
    "\n",
    "    \n",
    "    title = f\"Avg_Binned_SD_{sd}_sex{sex}\"\n",
    "    plt.title(title)\n",
    "    plt.tight_layout()\n",
    "    plt.savefig(f'{title}.pdf')\n",
    "    plt.show()"
   ],
   "metadata": {
    "collapsed": false,
    "ExecuteTime": {
     "end_time": "2023-10-02T22:38:02.607360600Z",
     "start_time": "2023-10-02T22:38:02.577349300Z"
    }
   }
  },
  {
   "cell_type": "code",
   "execution_count": 43,
   "outputs": [],
   "source": [
    "sub,sd,sex = plot_sub_data(df,expt_info_df,sd=True,sex='F',plot_it=False)"
   ],
   "metadata": {
    "collapsed": false,
    "ExecuteTime": {
     "end_time": "2023-10-03T13:53:32.188526300Z",
     "start_time": "2023-10-03T13:53:32.156520100Z"
    }
   }
  },
  {
   "cell_type": "code",
   "execution_count": 44,
   "outputs": [
    {
     "name": "stderr",
     "output_type": "stream",
     "text": [
      "C:\\Users\\Grover\\AppData\\Local\\Temp\\ipykernel_30132\\3839114371.py:6: SettingWithCopyWarning: \n",
      "A value is trying to be set on a copy of a slice from a DataFrame.\n",
      "Try using .loc[row_indexer,col_indexer] = value instead\n",
      "\n",
      "See the caveats in the documentation: https://pandas.pydata.org/pandas-docs/stable/user_guide/indexing.html#returning-a-view-versus-a-copy\n",
      "  plot_Df['pump_pos_minutes'] = plot_Df['pump_pos'] / (30 * 60)\n"
     ]
    },
    {
     "data": {
      "text/plain": "<Figure size 1200x600 with 1 Axes>",
      "image/png": "[encoded data removed]"
     },
     "metadata": {},
     "output_type": "display_data"
    }
   ],
   "source": [
    "plot_bin_data(sub,sd,sex)"
   ],
   "metadata": {
    "collapsed": false,
    "ExecuteTime": {
     "end_time": "2023-10-03T13:53:33.707094200Z",
     "start_time": "2023-10-03T13:53:33.060220Z"
    }
   }
  },
  {
   "cell_type": "code",
   "execution_count": null,
   "outputs": [],
   "source": [],
   "metadata": {
    "collapsed": false
   }
  }
 ],
 "metadata": {
  "kernelspec": {
   "display_name": "Python 3",
   "language": "python",
   "name": "python3"
  },
  "language_info": {
   "codemirror_mode": {
    "name": "ipython",
    "version": 2
   },
   "file_extension": ".py",
   "mimetype": "text/x-python",
   "name": "python",
   "nbconvert_exporter": "python",
   "pygments_lexer": "ipython2",
   "version": "2.7.6"
  }
 },
 "nbformat": 4,
 "nbformat_minor": 0
}

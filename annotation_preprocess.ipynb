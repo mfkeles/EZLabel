{
 "cells": [
  {
   "cell_type": "code",
   "execution_count": 1,
   "metadata": {
    "collapsed": true,
    "ExecuteTime": {
     "start_time": "2023-07-17T21:13:58.449971Z",
     "end_time": "2023-07-17T21:13:58.806051Z"
    }
   },
   "outputs": [],
   "source": [
    "# Following script combines the annotation data with the time series data\n",
    "path = r'C:\\Users\\Grover\\Documents\\GitHub\\EZLabel\\true_annotations'\n",
    "dict_path = r'Z:\\mfk\\basty-projects\\bouts_dict.pkl'\n",
    "\n",
    "import pandas as pd\n",
    "import os\n",
    "import glob\n",
    "\n",
    "\n",
    "def process_row(row, dictionary, N):\n",
    "    df_dict = dictionary[row['name']]\n",
    "    df_dict_filtered = df_dict.drop(['start_index', 'stop_index', 'region'], axis=1)\n",
    "\n",
    "    trial_id = int(row['trial_id'])\n",
    "    peak_index = row['peak_index']\n",
    "\n",
    "    # New dictionary to store sliced data with column names\n",
    "    sliced_data_dict = {}\n",
    "\n",
    "    for col in df_dict_filtered.columns:\n",
    "        if peak_index-N >= 0 and peak_index+N <= len(df_dict_filtered.loc[trial_id, col]):\n",
    "            start = max(0, peak_index - N)\n",
    "            end = min(len(df_dict_filtered.loc[trial_id, col]), peak_index + N)\n",
    "            sliced_data_dict[col] = df_dict_filtered.loc[trial_id, col][start:end]\n",
    "\n",
    "    return sliced_data_dict\n"
   ]
  },
  {
   "cell_type": "code",
   "execution_count": 2,
   "outputs": [],
   "source": [
    "\n",
    "pkl_files = glob.glob(os.path.join(path, '*.pkl'))\n",
    "ts_dict = pd.read_pickle(dict_path)\n",
    "\n",
    "df_list = []  # A list to store each DataFrame\n",
    "\n",
    "for file in pkl_files:\n",
    "    data = pd.read_pickle(file)\n",
    "    df = pd.DataFrame(data)\n",
    "    df['name'] = os.path.splitext(os.path.basename(file))[0]\n",
    "    df_list.append(df)  # Append the DataFrame to the list\n",
    "\n",
    "# Concatenate all the DataFrames in the list into a single DataFrame\n",
    "annotations = pd.concat(df_list, ignore_index=True)\n",
    "\n",
    "# Rename the columns to make it more intuitive\n",
    "annotations.rename(columns = {'index':'peak_index','column':'trial_id'},inplace=True)"
   ],
   "metadata": {
    "collapsed": false,
    "ExecuteTime": {
     "start_time": "2023-07-17T21:13:58.808052Z",
     "end_time": "2023-07-17T21:14:10.188593Z"
    }
   }
  },
  {
   "cell_type": "code",
   "execution_count": 3,
   "outputs": [
    {
     "data": {
      "text/plain": "      peak_index        value trial_id                 name\n0            534  1014.361120        0       Fly05182022_5d\n1            694  1017.733769        0       Fly05182022_5d\n2            903  1027.228163        0       Fly05182022_5d\n3           1207  1021.721591        0       Fly05182022_5d\n4           1623  1023.545935        0       Fly05182022_5d\n...          ...          ...      ...                  ...\n2878         826   596.487973        7  Fly07262022_6d_SD_A\n2879         892   597.300351        7  Fly07262022_6d_SD_A\n2880         961   598.255978        7  Fly07262022_6d_SD_A\n2881        1038   596.704468        7  Fly07262022_6d_SD_A\n2882        1113   597.951842        7  Fly07262022_6d_SD_A\n\n[2883 rows x 4 columns]",
      "text/html": "<div>\n<style scoped>\n    .dataframe tbody tr th:only-of-type {\n        vertical-align: middle;\n    }\n\n    .dataframe tbody tr th {\n        vertical-align: top;\n    }\n\n    .dataframe thead th {\n        text-align: right;\n    }\n</style>\n<table border=\"1\" class=\"dataframe\">\n  <thead>\n    <tr style=\"text-align: right;\">\n      <th></th>\n      <th>peak_index</th>\n      <th>value</th>\n      <th>trial_id</th>\n      <th>name</th>\n    </tr>\n  </thead>\n  <tbody>\n    <tr>\n      <th>0</th>\n      <td>534</td>\n      <td>1014.361120</td>\n      <td>0</td>\n      <td>Fly05182022_5d</td>\n    </tr>\n    <tr>\n      <th>1</th>\n      <td>694</td>\n      <td>1017.733769</td>\n      <td>0</td>\n      <td>Fly05182022_5d</td>\n    </tr>\n    <tr>\n      <th>2</th>\n      <td>903</td>\n      <td>1027.228163</td>\n      <td>0</td>\n      <td>Fly05182022_5d</td>\n    </tr>\n    <tr>\n      <th>3</th>\n      <td>1207</td>\n      <td>1021.721591</td>\n      <td>0</td>\n      <td>Fly05182022_5d</td>\n    </tr>\n    <tr>\n      <th>4</th>\n      <td>1623</td>\n      <td>1023.545935</td>\n      <td>0</td>\n      <td>Fly05182022_5d</td>\n    </tr>\n    <tr>\n      <th>...</th>\n      <td>...</td>\n      <td>...</td>\n      <td>...</td>\n      <td>...</td>\n    </tr>\n    <tr>\n      <th>2878</th>\n      <td>826</td>\n      <td>596.487973</td>\n      <td>7</td>\n      <td>Fly07262022_6d_SD_A</td>\n    </tr>\n    <tr>\n      <th>2879</th>\n      <td>892</td>\n      <td>597.300351</td>\n      <td>7</td>\n      <td>Fly07262022_6d_SD_A</td>\n    </tr>\n    <tr>\n      <th>2880</th>\n      <td>961</td>\n      <td>598.255978</td>\n      <td>7</td>\n      <td>Fly07262022_6d_SD_A</td>\n    </tr>\n    <tr>\n      <th>2881</th>\n      <td>1038</td>\n      <td>596.704468</td>\n      <td>7</td>\n      <td>Fly07262022_6d_SD_A</td>\n    </tr>\n    <tr>\n      <th>2882</th>\n      <td>1113</td>\n      <td>597.951842</td>\n      <td>7</td>\n      <td>Fly07262022_6d_SD_A</td>\n    </tr>\n  </tbody>\n</table>\n<p>2883 rows × 4 columns</p>\n</div>"
     },
     "execution_count": 3,
     "metadata": {},
     "output_type": "execute_result"
    }
   ],
   "source": [
    "annotations"
   ],
   "metadata": {
    "collapsed": false,
    "ExecuteTime": {
     "start_time": "2023-07-17T21:14:10.191594Z",
     "end_time": "2023-07-17T21:14:10.203233Z"
    }
   }
  },
  {
   "cell_type": "code",
   "execution_count": 4,
   "outputs": [],
   "source": [
    "# Create an empty DataFrame to store all the processed rows\n",
    "processed_data_df = pd.DataFrame()\n",
    "\n",
    "# Initialize a counter for slice\n",
    "slice_counter = 0\n",
    "\n",
    "# Loop through each row in annotations\n",
    "for i, row in annotations.iterrows():\n",
    "    processed_row = process_row(row, ts_dict, 30)\n",
    "\n",
    "    # Create a DataFrame for this row\n",
    "    row_df = pd.DataFrame(processed_row)\n",
    "\n",
    "    # Add 'slice_id' to the DataFrame\n",
    "    row_df['slice_id'] = slice_counter\n",
    "\n",
    "    # Set a multi-index using 'name', 'slice_id' and the existing index of row_df\n",
    "    row_df.index = pd.MultiIndex.from_tuples([(row['name'], slice_counter, i) for i in row_df.index],\n",
    "                                             names=['name', 'slice_id', 'time'])\n",
    "\n",
    "    # Append it to processed_data_df\n",
    "    processed_data_df = pd.concat([processed_data_df, row_df])\n",
    "\n",
    "    # Increment the slice_counter\n",
    "    slice_counter += 1\n"
   ],
   "metadata": {
    "collapsed": false,
    "ExecuteTime": {
     "start_time": "2023-07-17T21:09:20.504240Z",
     "end_time": "2023-07-17T21:09:25.975490Z"
    }
   }
  },
  {
   "cell_type": "code",
   "execution_count": 5,
   "outputs": [],
   "source": [
    "import numpy as np\n",
    "# Create a dictionary where key is (name, slice_id) and value is the sub-DataFrame\n",
    "df_dict = dict(tuple(processed_data_df.groupby(level=['name', 'slice_id'])))\n",
    "\n",
    "# Initialize an empty list to store each 2D array\n",
    "array_list = []\n",
    "\n",
    "# Loop over the dictionary\n",
    "for key in df_dict:\n",
    "    # Convert each DataFrame to a 2D numpy array and append to list\n",
    "    array_list.append(df_dict[key].values)\n",
    "\n",
    "# Convert list of arrays to a 3D numpy array\n",
    "np_array = np.stack(array_list)\n"
   ],
   "metadata": {
    "collapsed": false,
    "ExecuteTime": {
     "start_time": "2023-07-17T21:09:25.977852Z",
     "end_time": "2023-07-17T21:09:26.178424Z"
    }
   }
  },
  {
   "cell_type": "code",
   "execution_count": 6,
   "outputs": [],
   "source": [
    "output_path = r'C:\\Users\\Grover\\Documents\\GitHub\\EZLabel'\n",
    "\n",
    "processed_data_df.to_pickle(os.path.join(output_path,'false_peak_annotations.pkl'))"
   ],
   "metadata": {
    "collapsed": false,
    "ExecuteTime": {
     "start_time": "2023-07-17T21:09:41.821670Z",
     "end_time": "2023-07-17T21:09:41.837043Z"
    }
   }
  },
  {
   "cell_type": "code",
   "execution_count": 7,
   "outputs": [],
   "source": [
    "np.save(os.path.join(output_path,'false_peak_annotations.npy'),np_array)"
   ],
   "metadata": {
    "collapsed": false,
    "ExecuteTime": {
     "start_time": "2023-07-17T21:09:43.591205Z",
     "end_time": "2023-07-17T21:09:43.647218Z"
    }
   }
  },
  {
   "cell_type": "code",
   "execution_count": 4,
   "outputs": [],
   "source": [
    "output_path = r'C:\\Users\\Grover\\Documents\\GitHub\\EZLabel\\true_annotations\\output'\n",
    "annotations.to_pickle(os.path.join(output_path,'true_annotations.pkl'))"
   ],
   "metadata": {
    "collapsed": false,
    "ExecuteTime": {
     "start_time": "2023-07-17T21:14:43.276609Z",
     "end_time": "2023-07-17T21:14:43.283610Z"
    }
   }
  },
  {
   "cell_type": "code",
   "execution_count": null,
   "outputs": [],
   "source": [],
   "metadata": {
    "collapsed": false
   }
  }
 ],
 "metadata": {
  "kernelspec": {
   "display_name": "Python 3",
   "language": "python",
   "name": "python3"
  },
  "language_info": {
   "codemirror_mode": {
    "name": "ipython",
    "version": 2
   },
   "file_extension": ".py",
   "mimetype": "text/x-python",
   "name": "python",
   "nbconvert_exporter": "python",
   "pygments_lexer": "ipython2",
   "version": "2.7.6"
  }
 },
 "nbformat": 4,
 "nbformat_minor": 0
}
